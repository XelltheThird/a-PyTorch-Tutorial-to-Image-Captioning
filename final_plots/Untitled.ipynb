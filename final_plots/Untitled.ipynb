{
 "cells": [
  {
   "cell_type": "code",
   "execution_count": null,
   "metadata": {},
   "outputs": [],
   "source": [
    "import pickle\n",
    "import numpy as np\n",
    "import matplotlib.pyplot as plt"
   ]
  },
  {
   "cell_type": "code",
   "execution_count": null,
   "metadata": {},
   "outputs": [],
   "source": [
    "def create_dict(logs, name):\n",
    "    output_dict = {\"train_acc\": [], \"val_acc\": [], \"val_bleu4\": [], \"name\": name}\n",
    "    \n",
    "    runs = len(logs) # number of runs\n",
    "    # Plot averaged accuracies and blue score:\n",
    "    log_len = 0\n",
    "    for log in logs:\n",
    "        curr_len = len(log['train_acc'])\n",
    "        if curr_len > log_len:\n",
    "            log_len = curr_len\n",
    "    output_dict[\"max_run_len\"] = log_len \n",
    "\n",
    "    best_run = -1\n",
    "    for key in logs[0]:\n",
    "        # Masked array because runs may have different epoch lengths\n",
    "        key_data = np.ma.empty((runs, log_len))\n",
    "        key_data.mask = True\n",
    "        for run in range(len(logs)):\n",
    "            data = logs[run][key]\n",
    "            key_data[run, :len(data)] = np.array(data)\n",
    "\n",
    "        output_dict[key] = key_data\n",
    "        \n",
    "    return output_dict\n",
    "\n",
    "def plot_runs(list_of_logs):\n",
    "    keys = []\n",
    "    for log in list_of_logs:\n",
    "        name = log.pop(\"name\")\n",
    "        max_run_len = log.pop(\"max_run_len\")\n",
    "        \n",
    "        for key in log:\n",
    "            keys.append(key)\n",
    "            plt.figure(key)\n",
    "                \n",
    "            key_data = log[key]\n",
    "\n",
    "            data_max = key_data.max()\n",
    "            data_max_idx = np.unravel_index(np.argmax(key_data, axis=None), key_data.shape)\n",
    "            data_std_at_max = np.std(key_data[:, data_max_idx[1]])\n",
    "            print(\"Max \", key, \" for \", name, \": \", data_max, \", std: \", data_std_at_max, \" at step: \", data_max_idx[1])\n",
    "            data_mean = key_data.mean(axis=0)\n",
    "            data_std = key_data.std(axis=0)\n",
    "            lower_bound = data_mean - data_std\n",
    "            upper_bound = data_mean + data_std\n",
    "\n",
    "            # Plot stuff\n",
    "            p = plt.plot(range(max_run_len)[:50], data_mean[:50], label=name)\n",
    "            color = p[0].get_color()\n",
    "            plt.fill_between(range(max_run_len)[:50], lower_bound[:50], upper_bound[:50], alpha=0.5, color=color)\n",
    "            \n",
    "    for key in keys:\n",
    "        plt.figure(key)\n",
    "        \n",
    "        if key == \"val_acc\":\n",
    "            name = \"Validation Accuracy\"\n",
    "        elif key == \"train_acc\":\n",
    "            name = \"Train Accuracy\"\n",
    "        elif key == \"val_bleu4\":\n",
    "            name = \"Bleu4 Score\"\n",
    "        \n",
    "        plt.legend()\n",
    "        plt.title(name + \" during training time\")\n",
    "        plt.xlabel('Epochs')\n",
    "        plt.ylabel(name)\n",
    "        plt.savefig(key + \".pdf\")\n",
    "\n"
   ]
  },
  {
   "cell_type": "code",
   "execution_count": null,
   "metadata": {},
   "outputs": [],
   "source": [
    "def get_dict(name):\n",
    "    with open(name + \".json\", \"rb\") as file:\n",
    "        logs = pickle.load(file)\n",
    "    return create_dict(logs, name)"
   ]
  },
  {
   "cell_type": "code",
   "execution_count": null,
   "metadata": {},
   "outputs": [],
   "source": [
    "no_doubly = get_dict(\"no_doubly\")\n",
    "alpha_0 = get_dict(\"use_doubly_alpha_0\")\n",
    "alpha_1 = get_dict(\"use_doubly_alpha_1\")\n",
    "alpha_5 = get_dict(\"use_doubly_alpha_5\")\n",
    "log_list = [no_doubly, alpha_0, alpha_1, alpha_5]"
   ]
  },
  {
   "cell_type": "code",
   "execution_count": null,
   "metadata": {},
   "outputs": [],
   "source": [
    "plot_runs(log_list)"
   ]
  },
  {
   "cell_type": "code",
   "execution_count": null,
   "metadata": {},
   "outputs": [],
   "source": [
    "range(11)[:5]"
   ]
  },
  {
   "cell_type": "code",
   "execution_count": null,
   "metadata": {},
   "outputs": [],
   "source": []
  }
 ],
 "metadata": {
  "kernelspec": {
   "display_name": "Python 3",
   "language": "python",
   "name": "python3"
  },
  "language_info": {
   "codemirror_mode": {
    "name": "ipython",
    "version": 3
   },
   "file_extension": ".py",
   "mimetype": "text/x-python",
   "name": "python",
   "nbconvert_exporter": "python",
   "pygments_lexer": "ipython3",
   "version": "3.6.8"
  }
 },
 "nbformat": 4,
 "nbformat_minor": 2
}
